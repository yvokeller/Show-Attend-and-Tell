{
 "cells": [
  {
   "cell_type": "code",
   "execution_count": 1,
   "metadata": {},
   "outputs": [
    {
     "data": {
      "text/plain": [
       "VGG(\n",
       "  (features): Sequential(\n",
       "    (0): Conv2d(3, 64, kernel_size=(3, 3), stride=(1, 1), padding=(1, 1))\n",
       "    (1): ReLU(inplace=True)\n",
       "    (2): Conv2d(64, 64, kernel_size=(3, 3), stride=(1, 1), padding=(1, 1))\n",
       "    (3): ReLU(inplace=True)\n",
       "    (4): MaxPool2d(kernel_size=2, stride=2, padding=0, dilation=1, ceil_mode=False)\n",
       "    (5): Conv2d(64, 128, kernel_size=(3, 3), stride=(1, 1), padding=(1, 1))\n",
       "    (6): ReLU(inplace=True)\n",
       "    (7): Conv2d(128, 128, kernel_size=(3, 3), stride=(1, 1), padding=(1, 1))\n",
       "    (8): ReLU(inplace=True)\n",
       "    (9): MaxPool2d(kernel_size=2, stride=2, padding=0, dilation=1, ceil_mode=False)\n",
       "    (10): Conv2d(128, 256, kernel_size=(3, 3), stride=(1, 1), padding=(1, 1))\n",
       "    (11): ReLU(inplace=True)\n",
       "    (12): Conv2d(256, 256, kernel_size=(3, 3), stride=(1, 1), padding=(1, 1))\n",
       "    (13): ReLU(inplace=True)\n",
       "    (14): Conv2d(256, 256, kernel_size=(3, 3), stride=(1, 1), padding=(1, 1))\n",
       "    (15): ReLU(inplace=True)\n",
       "    (16): Conv2d(256, 256, kernel_size=(3, 3), stride=(1, 1), padding=(1, 1))\n",
       "    (17): ReLU(inplace=True)\n",
       "    (18): MaxPool2d(kernel_size=2, stride=2, padding=0, dilation=1, ceil_mode=False)\n",
       "    (19): Conv2d(256, 512, kernel_size=(3, 3), stride=(1, 1), padding=(1, 1))\n",
       "    (20): ReLU(inplace=True)\n",
       "    (21): Conv2d(512, 512, kernel_size=(3, 3), stride=(1, 1), padding=(1, 1))\n",
       "    (22): ReLU(inplace=True)\n",
       "    (23): Conv2d(512, 512, kernel_size=(3, 3), stride=(1, 1), padding=(1, 1))\n",
       "    (24): ReLU(inplace=True)\n",
       "    (25): Conv2d(512, 512, kernel_size=(3, 3), stride=(1, 1), padding=(1, 1))\n",
       "    (26): ReLU(inplace=True)\n",
       "    (27): MaxPool2d(kernel_size=2, stride=2, padding=0, dilation=1, ceil_mode=False)\n",
       "    (28): Conv2d(512, 512, kernel_size=(3, 3), stride=(1, 1), padding=(1, 1))\n",
       "    (29): ReLU(inplace=True)\n",
       "    (30): Conv2d(512, 512, kernel_size=(3, 3), stride=(1, 1), padding=(1, 1))\n",
       "    (31): ReLU(inplace=True)\n",
       "    (32): Conv2d(512, 512, kernel_size=(3, 3), stride=(1, 1), padding=(1, 1))\n",
       "    (33): ReLU(inplace=True)\n",
       "    (34): Conv2d(512, 512, kernel_size=(3, 3), stride=(1, 1), padding=(1, 1))\n",
       "    (35): ReLU(inplace=True)\n",
       "    (36): MaxPool2d(kernel_size=2, stride=2, padding=0, dilation=1, ceil_mode=False)\n",
       "  )\n",
       "  (avgpool): AdaptiveAvgPool2d(output_size=(7, 7))\n",
       "  (classifier): Sequential(\n",
       "    (0): Linear(in_features=25088, out_features=4096, bias=True)\n",
       "    (1): ReLU(inplace=True)\n",
       "    (2): Dropout(p=0.5, inplace=False)\n",
       "    (3): Linear(in_features=4096, out_features=4096, bias=True)\n",
       "    (4): ReLU(inplace=True)\n",
       "    (5): Dropout(p=0.5, inplace=False)\n",
       "    (6): Linear(in_features=4096, out_features=1000, bias=True)\n",
       "  )\n",
       ")"
      ]
     },
     "execution_count": 1,
     "metadata": {},
     "output_type": "execute_result"
    }
   ],
   "source": [
    "import torch.nn as nn\n",
    "from torchvision.models import densenet161, resnet152, vgg19\n",
    "from torchvision.models import VGG19_Weights\n",
    "\n",
    "net = vgg19(weights=VGG19_Weights.DEFAULT)\n",
    "net"
   ]
  },
  {
   "cell_type": "code",
   "execution_count": 22,
   "metadata": {},
   "outputs": [
    {
     "name": "stdout",
     "output_type": "stream",
     "text": [
      "True\n",
      "True\n",
      "True\n",
      "True\n",
      "True\n",
      "True\n",
      "True\n",
      "True\n",
      "True\n",
      "True\n",
      "True\n",
      "True\n",
      "True\n",
      "True\n",
      "True\n",
      "True\n",
      "True\n",
      "True\n",
      "True\n",
      "True\n",
      "True\n",
      "True\n",
      "True\n",
      "True\n",
      "True\n",
      "True\n",
      "True\n",
      "True\n",
      "True\n",
      "True\n",
      "True\n",
      "True\n",
      "False\n",
      "False\n",
      "False\n",
      "False\n",
      "False\n",
      "False\n",
      "False\n",
      "False\n",
      "False\n",
      "False\n",
      "False\n",
      "False\n",
      "False\n",
      "False\n",
      "False\n",
      "False\n",
      "False\n",
      "False\n",
      "False\n",
      "False\n",
      "False\n",
      "False\n",
      "False\n",
      "False\n",
      "False\n",
      "False\n",
      "False\n",
      "False\n",
      "False\n",
      "False\n",
      "False\n",
      "False\n"
     ]
    }
   ],
   "source": [
    "net = vgg19(weights=VGG19_Weights.DEFAULT)\n",
    "net = nn.Sequential(*list(net.features.children())[:-1])\n",
    "\n",
    "# freeze\n",
    "for param in net.parameters():\n",
    "    print(param.requires_grad)\n",
    "    param.requires_grad = False\n",
    "    \n",
    "for param in net.parameters():\n",
    "    print(param.requires_grad)"
   ]
  },
  {
   "cell_type": "code",
   "execution_count": 16,
   "metadata": {},
   "outputs": [],
   "source": [
    "from prettytable import PrettyTable\n",
    "def count_parameters(model):\n",
    "    table = PrettyTable([\"Modules\", \"Parameters\"])\n",
    "    total_params = 0\n",
    "    for name, parameter in model.named_parameters():\n",
    "        if not parameter.requires_grad: continue\n",
    "        params = parameter.numel()\n",
    "        table.add_row([name, params])\n",
    "        total_params+=params\n",
    "    print(table)\n",
    "    print(f\"Total Trainable Params: {total_params}\")\n",
    "    return total_params"
   ]
  },
  {
   "cell_type": "code",
   "execution_count": 24,
   "metadata": {},
   "outputs": [
    {
     "name": "stdout",
     "output_type": "stream",
     "text": [
      "+---------+------------+\n",
      "| Modules | Parameters |\n",
      "+---------+------------+\n",
      "+---------+------------+\n",
      "Total Trainable Params: 0\n"
     ]
    },
    {
     "data": {
      "text/plain": [
       "0"
      ]
     },
     "execution_count": 24,
     "metadata": {},
     "output_type": "execute_result"
    }
   ],
   "source": [
    "net\n",
    "\n",
    "count_parameters(net)"
   ]
  },
  {
   "cell_type": "code",
   "execution_count": null,
   "metadata": {},
   "outputs": [],
   "source": [
    "# Using features from VGG19, excluding the last pooling layer\n",
    "net = nn.Sequential(*list(net.features.children())[:-1])\n",
    "dim = 512  # Dimension of feature vectors for VGG19"
   ]
  },
  {
   "cell_type": "code",
   "execution_count": 7,
   "metadata": {},
   "outputs": [],
   "source": []
  },
  {
   "cell_type": "code",
   "execution_count": 8,
   "metadata": {},
   "outputs": [
    {
     "name": "stdout",
     "output_type": "stream",
     "text": [
      "+---------------------+------------+\n",
      "|       Modules       | Parameters |\n",
      "+---------------------+------------+\n",
      "|  features.0.weight  |    1728    |\n",
      "|   features.0.bias   |     64     |\n",
      "|  features.2.weight  |   36864    |\n",
      "|   features.2.bias   |     64     |\n",
      "|  features.5.weight  |   73728    |\n",
      "|   features.5.bias   |    128     |\n",
      "|  features.7.weight  |   147456   |\n",
      "|   features.7.bias   |    128     |\n",
      "|  features.10.weight |   294912   |\n",
      "|   features.10.bias  |    256     |\n",
      "|  features.12.weight |   589824   |\n",
      "|   features.12.bias  |    256     |\n",
      "|  features.14.weight |   589824   |\n",
      "|   features.14.bias  |    256     |\n",
      "|  features.16.weight |   589824   |\n",
      "|   features.16.bias  |    256     |\n",
      "|  features.19.weight |  1179648   |\n",
      "|   features.19.bias  |    512     |\n",
      "|  features.21.weight |  2359296   |\n",
      "|   features.21.bias  |    512     |\n",
      "|  features.23.weight |  2359296   |\n",
      "|   features.23.bias  |    512     |\n",
      "|  features.25.weight |  2359296   |\n",
      "|   features.25.bias  |    512     |\n",
      "|  features.28.weight |  2359296   |\n",
      "|   features.28.bias  |    512     |\n",
      "|  features.30.weight |  2359296   |\n",
      "|   features.30.bias  |    512     |\n",
      "|  features.32.weight |  2359296   |\n",
      "|   features.32.bias  |    512     |\n",
      "|  features.34.weight |  2359296   |\n",
      "|   features.34.bias  |    512     |\n",
      "| classifier.0.weight | 102760448  |\n",
      "|  classifier.0.bias  |    4096    |\n",
      "| classifier.3.weight |  16777216  |\n",
      "|  classifier.3.bias  |    4096    |\n",
      "| classifier.6.weight |  4096000   |\n",
      "|  classifier.6.bias  |    1000    |\n",
      "+---------------------+------------+\n",
      "Total Trainable Params: 143667240\n"
     ]
    },
    {
     "data": {
      "text/plain": [
       "143667240"
      ]
     },
     "execution_count": 8,
     "metadata": {},
     "output_type": "execute_result"
    }
   ],
   "source": []
  },
  {
   "cell_type": "code",
   "execution_count": 11,
   "metadata": {},
   "outputs": [
    {
     "name": "stdout",
     "output_type": "stream",
     "text": [
      "Are the predictions close: False\n"
     ]
    }
   ],
   "source": [
    "import torch\n",
    "import numpy as np\n",
    "\n",
    "# Load the tensors\n",
    "preds_scenario1 = torch.load('preds_scenario1_epoch1_att.pt')\n",
    "preds_scenario2 = torch.load('preds_scenario1_epoch1_noatt.pt')\n",
    "\n",
    "# Convert to numpy if required\n",
    "preds_scenario1_np = preds_scenario1.cpu().detach().numpy()\n",
    "preds_scenario2_np = preds_scenario2.cpu().detach().numpy()\n",
    "\n",
    "# Compare\n",
    "comparison = np.allclose(np.abs(preds_scenario1_np), np.abs(preds_scenario2_np), rtol=1e-01)\n",
    "print(f'Are the predictions close: {comparison}')\n"
   ]
  },
  {
   "cell_type": "code",
   "execution_count": 13,
   "metadata": {},
   "outputs": [
    {
     "data": {
      "text/plain": [
       "tensor([[[ 0.0000,  0.0000,  0.0000,  ...,  0.0015,  0.0000, -0.0010],\n",
       "         [ 0.0000,  0.0026,  0.0000,  ..., -0.0037, -0.0006,  0.0000],\n",
       "         [ 0.0000,  0.0000,  0.0000,  ...,  0.0000, -0.0110,  0.0000],\n",
       "         ...,\n",
       "         [ 0.0000, -0.0049, -0.0087,  ..., -0.0102, -0.0125,  0.0000],\n",
       "         [ 0.0000,  0.0100,  0.0039,  ..., -0.0123,  0.0008,  0.0000],\n",
       "         [ 0.0000, -0.0140,  0.0063,  ...,  0.0077, -0.0074,  0.0000]],\n",
       "\n",
       "        [[ 0.0000,  0.0000,  0.0000,  ..., -0.0094,  0.0000,  0.0076],\n",
       "         [ 0.0000,  0.0000, -0.0056,  ...,  0.0000,  0.0000,  0.0102],\n",
       "         [ 0.0028,  0.0000,  0.0000,  ...,  0.0000,  0.0000,  0.0000],\n",
       "         ...,\n",
       "         [ 0.0000,  0.0019, -0.0301,  ..., -0.0345, -0.0337,  0.0000],\n",
       "         [ 0.0000,  0.0258,  0.0064,  ..., -0.0299, -0.0355,  0.0000],\n",
       "         [ 0.0000,  0.0220, -0.0114,  ..., -0.0150,  0.0189,  0.0000]],\n",
       "\n",
       "        [[ 0.0000,  0.0000,  0.0000,  ..., -0.0012,  0.0000,  0.0000],\n",
       "         [ 0.0000,  0.0000,  0.0000,  ...,  0.0000,  0.0000, -0.0025],\n",
       "         [ 0.0000,  0.0098,  0.0000,  ...,  0.0115,  0.0000,  0.0000],\n",
       "         ...,\n",
       "         [ 0.0000, -0.0034,  0.0105,  ...,  0.0200, -0.0178,  0.0000],\n",
       "         [ 0.0000,  0.0047, -0.0114,  ...,  0.0108, -0.0082,  0.0000],\n",
       "         [-0.0003,  0.0063,  0.0101,  ...,  0.0014, -0.0242,  0.0000]],\n",
       "\n",
       "        ...,\n",
       "\n",
       "        [[ 0.0000,  0.0000,  0.0000,  ..., -0.0114,  0.0000, -0.0103],\n",
       "         [ 0.0000,  0.0016,  0.0000,  ..., -0.0074, -0.0334,  0.0000],\n",
       "         [ 0.0025,  0.0000,  0.0000,  ..., -0.0208, -0.0325,  0.0000],\n",
       "         ...,\n",
       "         [ 0.0000,  0.0218,  0.0004,  ..., -0.0358, -0.0472,  0.0000],\n",
       "         [ 0.0000, -0.0085,  0.0033,  ..., -0.0501, -0.0220,  0.0000],\n",
       "         [ 0.0000,  0.0011, -0.0026,  ..., -0.0257, -0.0540,  0.0000]],\n",
       "\n",
       "        [[ 0.0000,  0.0000,  0.0002,  ...,  0.0000,  0.0000,  0.0111],\n",
       "         [ 0.0000,  0.0235,  0.0000,  ...,  0.0451,  0.0066,  0.0000],\n",
       "         [ 0.0000,  0.0000,  0.0000,  ...,  0.0437,  0.0030,  0.0041],\n",
       "         ...,\n",
       "         [ 0.0000,  0.0185,  0.0084,  ...,  0.0375,  0.0040,  0.0000],\n",
       "         [ 0.0000,  0.0136,  0.0180,  ...,  0.0494, -0.0104,  0.0000],\n",
       "         [ 0.0000,  0.0233,  0.0088,  ...,  0.0475, -0.0329,  0.0000]],\n",
       "\n",
       "        [[ 0.0000,  0.0000,  0.0000,  ..., -0.0181,  0.0000,  0.0108],\n",
       "         [ 0.0000,  0.0000,  0.0000,  ..., -0.0165, -0.0072,  0.0000],\n",
       "         [ 0.0293,  0.0000,  0.0000,  ...,  0.0000,  0.0000,  0.0000],\n",
       "         ...,\n",
       "         [ 0.0000, -0.0356, -0.0032,  ..., -0.0089, -0.0185,  0.0000],\n",
       "         [ 0.0000, -0.0096,  0.0138,  ..., -0.0255, -0.0070,  0.0000],\n",
       "         [ 0.0001,  0.0000,  0.0076,  ..., -0.0102, -0.0201,  0.0000]]],\n",
       "       device='mps:0', grad_fn=<SubBackward0>)"
      ]
     },
     "execution_count": 13,
     "metadata": {},
     "output_type": "execute_result"
    }
   ],
   "source": [
    "preds_scenario1 - preds_scenario2"
   ]
  },
  {
   "cell_type": "code",
   "execution_count": 10,
   "metadata": {},
   "outputs": [
    {
     "data": {
      "text/plain": [
       "array([[[0.        , 0.        , 0.        , ..., 0.03335105,\n",
       "         0.        , 0.03577995],\n",
       "        [0.        , 0.34878963, 0.        , ..., 0.28793523,\n",
       "         0.83124405, 0.        ],\n",
       "        [0.        , 0.        , 0.        , ..., 0.        ,\n",
       "         0.194206  , 0.        ],\n",
       "        ...,\n",
       "        [0.        , 0.13001278, 0.3545614 , ..., 0.7991455 ,\n",
       "         0.49412656, 0.        ],\n",
       "        [0.        , 0.04037298, 0.4229029 , ..., 0.90565455,\n",
       "         0.5475647 , 0.        ],\n",
       "        [0.        , 0.14127803, 0.4307167 , ..., 0.84165597,\n",
       "         0.41852698, 0.        ]],\n",
       "\n",
       "       [[0.        , 0.        , 0.        , ..., 0.03455406,\n",
       "         0.        , 0.06838391],\n",
       "        [0.        , 0.        , 0.49620795, ..., 0.        ,\n",
       "         0.        , 0.12208754],\n",
       "        [0.37670052, 0.        , 0.        , ..., 0.        ,\n",
       "         0.        , 0.        ],\n",
       "        ...,\n",
       "        [0.        , 0.16886163, 0.41359276, ..., 0.8285238 ,\n",
       "         0.32362026, 0.        ],\n",
       "        [0.        , 0.22980514, 0.43589985, ..., 0.815677  ,\n",
       "         0.37517095, 0.        ],\n",
       "        [0.        , 0.12790413, 0.5047961 , ..., 0.8082393 ,\n",
       "         0.40874872, 0.        ]],\n",
       "\n",
       "       [[0.        , 0.        , 0.        , ..., 0.05016523,\n",
       "         0.        , 0.        ],\n",
       "        [0.        , 0.        , 0.        , ..., 0.        ,\n",
       "         0.        , 0.10674348],\n",
       "        [0.        , 0.3105246 , 0.        , ..., 0.35240322,\n",
       "         0.        , 0.        ],\n",
       "        ...,\n",
       "        [0.        , 0.15129055, 0.34252265, ..., 0.90185136,\n",
       "         0.46348268, 0.        ],\n",
       "        [0.        , 0.21467322, 0.4326911 , ..., 0.85142875,\n",
       "         0.45891416, 0.        ],\n",
       "        [0.01972616, 0.12382361, 0.31020746, ..., 0.908898  ,\n",
       "         0.41624218, 0.        ]],\n",
       "\n",
       "       ...,\n",
       "\n",
       "       [[0.        , 0.        , 0.        , ..., 0.        ,\n",
       "         0.        , 0.13079983],\n",
       "        [0.        , 0.32521117, 0.        , ..., 0.15636335,\n",
       "         0.7881369 , 0.        ],\n",
       "        [0.00438064, 0.        , 0.        , ..., 0.20862424,\n",
       "         0.0918628 , 0.        ],\n",
       "        ...,\n",
       "        [0.        , 0.05400457, 0.38803032, ..., 0.7503238 ,\n",
       "         0.5009049 , 0.        ],\n",
       "        [0.        , 0.06221596, 0.30444142, ..., 0.6763327 ,\n",
       "         0.43747833, 0.        ],\n",
       "        [0.        , 0.00271017, 0.430219  , ..., 0.7378192 ,\n",
       "         0.3885323 , 0.        ]],\n",
       "\n",
       "       [[0.        , 0.        , 0.01092283, ..., 0.        ,\n",
       "         0.        , 0.04340045],\n",
       "        [0.        , 0.43338707, 0.        , ..., 0.16797864,\n",
       "         0.75995994, 0.        ],\n",
       "        [0.        , 0.        , 0.        , ..., 0.04534909,\n",
       "         0.7439105 , 0.11294651],\n",
       "        ...,\n",
       "        [0.        , 0.12859234, 0.53660387, ..., 0.81830174,\n",
       "         0.41513088, 0.        ],\n",
       "        [0.        , 0.14646986, 0.45004874, ..., 0.8548718 ,\n",
       "         0.37295276, 0.        ],\n",
       "        [0.        , 0.10139838, 0.49198472, ..., 0.81648594,\n",
       "         0.41255778, 0.        ]],\n",
       "\n",
       "       [[0.        , 0.        , 0.        , ..., 0.037271  ,\n",
       "         0.        , 0.2572142 ],\n",
       "        [0.        , 0.        , 0.        , ..., 1.4825785 ,\n",
       "         0.22973797, 0.        ],\n",
       "        [0.50817484, 0.        , 0.        , ..., 0.        ,\n",
       "         0.        , 0.        ],\n",
       "        ...,\n",
       "        [0.        , 0.00428815, 0.47565562, ..., 0.8813851 ,\n",
       "         0.49197534, 0.        ],\n",
       "        [0.        , 0.04601445, 0.46981934, ..., 0.9421818 ,\n",
       "         0.43462056, 0.        ],\n",
       "        [0.0517153 , 0.        , 0.54606515, ..., 0.8636835 ,\n",
       "         0.3689824 , 0.        ]]], dtype=float32)"
      ]
     },
     "execution_count": 10,
     "metadata": {},
     "output_type": "execute_result"
    }
   ],
   "source": [
    "np.abs(preds_scenario1_np)"
   ]
  },
  {
   "cell_type": "code",
   "execution_count": null,
   "metadata": {},
   "outputs": [],
   "source": []
  }
 ],
 "metadata": {
  "kernelspec": {
   "display_name": "deep-learning",
   "language": "python",
   "name": "python3"
  },
  "language_info": {
   "codemirror_mode": {
    "name": "ipython",
    "version": 3
   },
   "file_extension": ".py",
   "mimetype": "text/x-python",
   "name": "python",
   "nbconvert_exporter": "python",
   "pygments_lexer": "ipython3",
   "version": "3.10.9"
  }
 },
 "nbformat": 4,
 "nbformat_minor": 2
}
